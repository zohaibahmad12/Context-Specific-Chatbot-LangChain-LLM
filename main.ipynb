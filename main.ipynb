{
 "cells": [
  {
   "cell_type": "code",
   "execution_count": 33,
   "id": "0b143f50",
   "metadata": {},
   "outputs": [],
   "source": [
    "import os\n",
    "api_key=os.environ.get('OPEN_AI_API_KEY')"
   ]
  },
  {
   "cell_type": "code",
   "execution_count": null,
   "id": "866173ff",
   "metadata": {},
   "outputs": [],
   "source": [
    "# pip install unstructured libmagic python-magic pythpn-magic-bin\n",
    "# Install these libraries first"
   ]
  },
  {
   "cell_type": "code",
   "execution_count": 38,
   "id": "21582541",
   "metadata": {},
   "outputs": [
    {
     "data": {
      "text/plain": [
       "[Document(metadata={'source': 'https://zeniva.ai/'}, page_content='FAQS\\n\\nFeatures\\n\\nAvatars\\n\\nPricing\\n\\nAbout Us\\n\\nFAQs\\n\\nContact Us\\n\\nComing Soon\\n\\nAI-Powered Interactions\\n\\nAI Content Creator for Shopify\\n\\nEnhance Customer Experience, Boost Sales, and Personalise Interactions with Zeniva: The Ultimate AI Content Creation Tool.\\n\\nComing Soon\\n\\nLearn More\\n\\nExplore the Capabilities\\n\\nZeniva Features\\n\\nUnlock powerful features to elevate your Shopify store’s content creation.\\n\\nProduct Recommendation\\n\\nBoost your sales with intelligent product recommendations. Zeniva can suggest additional products to your customers, enhancing their shopping experience and increasing your revenue.\\n\\nAuto Train\\n\\nZeniva offers seamless auto-training with a single click. It automatically learns and adapts, gathering data from your store to create customised content tailored to boost your business effectively.\\n\\nVoice Interaction (Beta)\\n\\nExperience the future of customer interaction with our new microphone feature. Customers can talk directly to Zeniva for an even more engaging and interactive experience. Currently in beta, this feature is set to revolutionise the way you connect with your audience.\\n\\nMonitored Analytics\\n\\nGain insights into how your customers engage with Zeniva through our advanced dashboard, ensuring you make data-driven decisions.\\n\\nView All\\n\\nSmart Credit Handling\\n\\nEXA Credit System\\n\\nZeniva’s EXA credit system simplifies credit purchase and management, ensuring secure transactions. Exa credits are strategically distributed across features to enhance utility and enrich your Zeniva experience.\\n\\nPersonalise Your Brand\\n\\nAI Avatars\\n\\nSelect from an array of avatars spanning various ethnicities, ages, and styles.\\n\\nView All\\n\\nFind your ideal plan\\n\\nSelect Pricing Plan\\n\\nFind the perfect plan to suit your needs and business.\\n\\nFree\\n\\n$0/mo\\n\\n25 EXA Credits (One Time)\\n\\n5 Video Generations\\n\\n15 Audio Generations\\n\\n250 Text Generations\\n\\n100 Interaction Hours\\n\\nUp to 15 Second Video\\n\\nRecommendation System\\n\\nWide Range of Avatars\\n\\nAI Content Creation\\n\\nAuto Train\\n\\nVoice Interaction (Beta)\\n\\nSmart Navigation (Beta)\\n\\nMonitored Analytics\\n\\nComing Soon\\n\\nSmall Business\\n\\n$50/mo\\n\\n100 EXA Credits\\n\\n20 Video Generations\\n\\n60 Audio Generations\\n\\n1000 Text Generations\\n\\n400 Interaction Hours\\n\\nUp to 15 Second Video\\n\\nRecommendation System\\n\\nWide Range of Avatars\\n\\nAI Content Creation\\n\\nAuto Train\\n\\nVoice Interaction (Beta)\\n\\nSmart Navigation (Beta)\\n\\nMonitored Analytics\\n\\nComing Soon\\n\\nMedium Business\\n\\n$100/mo\\n\\n200 EXA Credits\\n\\n40 Video Generations\\n\\n120 Audio Generations\\n\\n2000 Text Generations\\n\\n800 Interaction Hours\\n\\nUp to 15 Second Video\\n\\nRecommendation System\\n\\nWide Range of Avatars\\n\\nAI Content Creation\\n\\nAuto Train\\n\\nVoice Interaction (Beta)\\n\\nSmart Navigation (Beta)\\n\\nMonitored Analytics\\n\\nComing Soon\\n\\nEnterprise Plan\\n\\nScaling your business? Our Enterprise Plan offers customised features, dedicated support, and flexible solutions for large-scale operations.\\n\\nGet In Touch\\n\\nOPERATION GUIDE\\n\\nHow it works\\n\\n01\\n\\nEasy Integration\\n\\nSetting up Zeniva on your Shopify store is a breeze. Our user-friendly interface ensures you can get started in minutes, without any technical expertise.\\n\\n02\\n\\nAutomated Training\\n\\nZeniva learns and adapts to your website automatically. No need for constant updates or manual training – Zeniva stays up-to-date with your latest products and content.\\n\\n03\\n\\nCustomisable Recommendation\\n\\nTailor Zeniva’s interactions to suit your brand’s voice and style. Whether it’s greeting visitors or recommending products, you have full control over how Zeniva communicates with your customers.\\n\\nOur Tech Allies\\n\\nTechnology Partners\\n\\nLaunching Soon!\\n\\nPrepare for a revolutionary approach with Zeniva. Stay tuned for AI-powered tools that will enhance customer engagement and boost your sales!\\n\\nComing Soon\\n\\nJoin Our Newsletter\\n\\nGet the latest updates in your inbox.\\n\\nThank you for subscribing to our newsletter!\\n\\nEmail\\n\\nSubscribe\\n\\nPowered by Exarta.\\n\\nFollow\\n\\nFollow\\n\\nFollow\\n\\nFollow\\n\\nFollow\\n\\nCompany\\n\\nAbout Us\\n\\nPricing\\n\\nFeatures\\n\\nAvatars\\n\\nResources\\n\\nContact Us\\n\\nFAQs\\n\\nBlogs\\n\\nLegal\\n\\nPrivacy Policy\\n\\nTerms and Conditions\\n\\nLegal Terms\\n\\nPowered by Exarta.\\n\\nFollow\\n\\nFollow\\n\\nFollow\\n\\nFollow\\n\\nFollow\\n\\nResources\\n\\nCase Study\\n\\nFAQs\\n\\nFAQs\\n\\nFAQs\\n\\nResources\\n\\nCase Study\\n\\nFAQs\\n\\nFAQs\\n\\nLegal\\n\\nCase Study\\n\\nFAQs\\n\\nFAQs\\n\\n© 2024 Zeniva.ai All Rights Reserved')]"
      ]
     },
     "execution_count": 38,
     "metadata": {},
     "output_type": "execute_result"
    }
   ],
   "source": [
    "from langchain_community.document_loaders import UnstructuredURLLoader\n",
    "\n",
    "urls = [\n",
    "    \"https://zeniva.ai/\"\n",
    "]\n",
    "\n",
    "loader = UnstructuredURLLoader(urls=urls)\n",
    "\n",
    "loader.load()"
   ]
  },
  {
   "cell_type": "code",
   "execution_count": null,
   "id": "8af155c1",
   "metadata": {},
   "outputs": [],
   "source": []
  },
  {
   "cell_type": "code",
   "execution_count": null,
   "id": "95a5fcba",
   "metadata": {},
   "outputs": [],
   "source": []
  }
 ],
 "metadata": {
  "kernelspec": {
   "display_name": "Python 3",
   "language": "python",
   "name": "python3"
  },
  "language_info": {
   "codemirror_mode": {
    "name": "ipython",
    "version": 3
   },
   "file_extension": ".py",
   "mimetype": "text/x-python",
   "name": "python",
   "nbconvert_exporter": "python",
   "pygments_lexer": "ipython3",
   "version": "3.8.8"
  }
 },
 "nbformat": 4,
 "nbformat_minor": 5
}
